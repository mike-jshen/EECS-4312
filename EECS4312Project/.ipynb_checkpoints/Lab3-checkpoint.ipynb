{
 "cells": [
  {
   "cell_type": "code",
   "execution_count": 1,
   "metadata": {},
   "outputs": [
    {
     "name": "stderr",
     "output_type": "stream",
     "text": [
      "[nltk_data] Downloading package wordnet to\n",
      "[nltk_data]     /cs/home/mshen55/nltk_data...\n",
      "[nltk_data]   Package wordnet is already up-to-date!\n",
      "[nltk_data] Downloading package stopwords to\n",
      "[nltk_data]     /cs/home/mshen55/nltk_data...\n",
      "[nltk_data]   Package stopwords is already up-to-date!\n",
      "[nltk_data] Downloading package punkt to /cs/home/mshen55/nltk_data...\n",
      "[nltk_data]   Package punkt is already up-to-date!\n"
     ]
    },
    {
     "data": {
      "text/plain": [
       "True"
      ]
     },
     "execution_count": 1,
     "metadata": {},
     "output_type": "execute_result"
    }
   ],
   "source": [
    "import nltk\n",
    "import string\n",
    "import re\n",
    "import num2words\n",
    "import csv\n",
    "from nltk.corpus import stopwords\n",
    "from nltk.stem.porter import PorterStemmer\n",
    "from nltk.stem import WordNetLemmatizer\n",
    "nltk.download('wordnet')\n",
    "nltk.download('stopwords')\n",
    "nltk.download('punkt')"
   ]
  },
  {
   "cell_type": "code",
   "execution_count": 2,
   "metadata": {},
   "outputs": [],
   "source": [
    "import pandas as pd"
   ]
  },
  {
   "cell_type": "markdown",
   "metadata": {},
   "source": [
    "# TASK 2 - Pre-Process App Descriptions"
   ]
  },
  {
   "cell_type": "code",
   "execution_count": 4,
   "metadata": {},
   "outputs": [],
   "source": [
    "df = pd.read_csv('MyAppDescriptions.csv')"
   ]
  },
  {
   "cell_type": "code",
   "execution_count": 5,
   "metadata": {},
   "outputs": [],
   "source": [
    "desc = df[\"App Description\"]"
   ]
  },
  {
   "cell_type": "markdown",
   "metadata": {},
   "source": [
    "# Show Original Description Output"
   ]
  },
  {
   "cell_type": "code",
   "execution_count": 6,
   "metadata": {},
   "outputs": [
    {
     "name": "stdout",
     "output_type": "stream",
     "text": [
      "This one is basic, turn it on with the button and quit the app to turn it off. \n",
      "CamTimer is a simple camera timer application for Android devices. It allows you to choose \n",
      "from a 5, 10, or 15 second countdown and takes one or four pictures after the time has elapsed. After \n",
      "you take a picture it will be shown full screen, allowing you to share or delete it. \n",
      "The student administration tool TUCaN Mobile of the TU Darmstadt is available via the \n",
      "Smartphone has been very difficult to use so far. That is now changing for everyone Android users. This \n",
      "app reads the page and makes it suitable for small screens. Unfortunately, it is currently not possible to \n",
      "register for events registering and registering for exams is only experimental, however it is very practical \n",
      "to quickly get some information or materials from TUCaN to download.\n",
      "View live weather radar imagery from the Canadian government. The weather data is \n",
      "available under a non-commercial license. With GPS integration in addition to all the features available \n",
      "at Environment Canada’s website WiseRadar removes all the hassle from checking up on the latest \n",
      "storm front. This app was designed for minimal headaches and just to-the-point radar imagery. Key \n",
      "features include: All radar locations Canada wide! Pinch zoom on images to see just how close the storm \n",
      "is to your home Show your exact location on the image using your device’s GPS sensor! \n",
      "Camera Color Picker lets you capture, in real time, the colors around you using the \n",
      "camera of your device.\n"
     ]
    }
   ],
   "source": [
    "#Display raw data of description from each row\n",
    "for (name, data) in desc.iteritems():\n",
    "#    print(desc.to_string())\n",
    "    print(data)"
   ]
  },
  {
   "cell_type": "markdown",
   "metadata": {},
   "source": [
    "# I. Remove Punctuation"
   ]
  },
  {
   "cell_type": "code",
   "execution_count": 7,
   "metadata": {
    "scrolled": true
   },
   "outputs": [
    {
     "name": "stdout",
     "output_type": "stream",
     "text": [
      "This one is basic turn it on with the button and quit the app to turn it off \n",
      "CamTimer is a simple camera timer application for Android devices It allows you to choose \n",
      "from a 5 10 or 15 second countdown and takes one or four pictures after the time has elapsed After \n",
      "you take a picture it will be shown full screen allowing you to share or delete it \n",
      "The student administration tool TUCaN Mobile of the TU Darmstadt is available via the \n",
      "Smartphone has been very difficult to use so far That is now changing for everyone Android users This \n",
      "app reads the page and makes it suitable for small screens Unfortunately it is currently not possible to \n",
      "register for events registering and registering for exams is only experimental however it is very practical \n",
      "to quickly get some information or materials from TUCaN to download\n",
      "View live weather radar imagery from the Canadian government The weather data is \n",
      "available under a noncommercial license With GPS integration in addition to all the features available \n",
      "at Environment Canada’s website WiseRadar removes all the hassle from checking up on the latest \n",
      "storm front This app was designed for minimal headaches and just tothepoint radar imagery Key \n",
      "features include All radar locations Canada wide Pinch zoom on images to see just how close the storm \n",
      "is to your home Show your exact location on the image using your device’s GPS sensor \n",
      "Camera Color Picker lets you capture in real time the colors around you using the \n",
      "camera of your device\n"
     ]
    }
   ],
   "source": [
    "# Remove Punctuations\n",
    "for (name, data) in desc.iteritems():\n",
    "    desc[name] = desc[name].translate(str.maketrans('', '', string.punctuation))\n",
    "    #desc[name] = desc[name].lower()\n",
    "    #print(desc[name])\n",
    "    #print(data)\n",
    "\n",
    "# Display Output\n",
    "for (name, data) in desc.iteritems():\n",
    "    print(data)\n",
    "    #print(desc.to_string())\n"
   ]
  },
  {
   "cell_type": "markdown",
   "metadata": {},
   "source": [
    "# II. Remove Special Characters"
   ]
  },
  {
   "cell_type": "code",
   "execution_count": 8,
   "metadata": {},
   "outputs": [
    {
     "name": "stdout",
     "output_type": "stream",
     "text": [
      "This one is basic turn it on with the button and quit the app to turn it off \n",
      "CamTimer is a simple camera timer application for Android devices It allows you to choose  from a 5 10 or 15 second countdown and takes one or four pictures after the time has elapsed After  you take a picture it will be shown full screen allowing you to share or delete it \n",
      "The student administration tool TUCaN Mobile of the TU Darmstadt is available via the  Smartphone has been very difficult to use so far That is now changing for everyone Android users This  app reads the page and makes it suitable for small screens Unfortunately it is currently not possible to  register for events registering and registering for exams is only experimental however it is very practical  to quickly get some information or materials from TUCaN to download\n",
      "View live weather radar imagery from the Canadian government The weather data is  available under a noncommercial license With GPS integration in addition to all the features available  at Environment Canada s website WiseRadar removes all the hassle from checking up on the latest  storm front This app was designed for minimal headaches and just tothepoint radar imagery Key  features include All radar locations Canada wide Pinch zoom on images to see just how close the storm  is to your home Show your exact location on the image using your device s GPS sensor \n",
      "Camera Color Picker lets you capture in real time the colors around you using the  camera of your device\n"
     ]
    }
   ],
   "source": [
    "# Remove all special characters using Regrex\n",
    "for (name, data) in desc.iteritems():\n",
    "    desc[name] = re.sub(r\"[^a-zA-Z0-9]\",' ',desc[name])\n",
    "\n",
    "# Display Output\n",
    "for (name, data) in desc.iteritems():\n",
    "    print(data)"
   ]
  },
  {
   "cell_type": "markdown",
   "metadata": {},
   "source": [
    "# III. Turn Numbers Into Text"
   ]
  },
  {
   "cell_type": "code",
   "execution_count": 9,
   "metadata": {},
   "outputs": [
    {
     "name": "stdout",
     "output_type": "stream",
     "text": [
      "This one is basic turn it on with the button and quit the app to turn it off \n",
      "CamTimer is a simple camera timer application for Android devices It allows you to choose  from a five ten or fifteen second countdown and takes one or four pictures after the time has elapsed After  you take a picture it will be shown full screen allowing you to share or delete it \n",
      "The student administration tool TUCaN Mobile of the TU Darmstadt is available via the  Smartphone has been very difficult to use so far That is now changing for everyone Android users This  app reads the page and makes it suitable for small screens Unfortunately it is currently not possible to  register for events registering and registering for exams is only experimental however it is very practical  to quickly get some information or materials from TUCaN to download\n",
      "View live weather radar imagery from the Canadian government The weather data is  available under a noncommercial license With GPS integration in addition to all the features available  at Environment Canada s website WiseRadar removes all the hassle from checking up on the latest  storm front This app was designed for minimal headaches and just tothepoint radar imagery Key  features include All radar locations Canada wide Pinch zoom on images to see just how close the storm  is to your home Show your exact location on the image using your device s GPS sensor \n",
      "Camera Color Picker lets you capture in real time the colors around you using the  camera of your device\n"
     ]
    }
   ],
   "source": [
    "# Turn Numbers into Text\n",
    "for (name, data) in desc.iteritems():\n",
    "    desc[name] = re.sub(r\"(\\d+)\", lambda x: num2words.num2words(int(x.group(0))), desc[name])\n",
    "    \n",
    "# Display Output\n",
    "for (name, data) in desc.iteritems():\n",
    "    print(data)"
   ]
  },
  {
   "cell_type": "markdown",
   "metadata": {},
   "source": [
    "# IV. Remove Extra White Spaces"
   ]
  },
  {
   "cell_type": "code",
   "execution_count": 10,
   "metadata": {},
   "outputs": [
    {
     "name": "stdout",
     "output_type": "stream",
     "text": [
      "This one is basic turn it on with the button and quit the app to turn it off\n",
      "CamTimer is a simple camera timer application for Android devices It allows you to choose from a five ten or fifteen second countdown and takes one or four pictures after the time has elapsed After you take a picture it will be shown full screen allowing you to share or delete it\n",
      "The student administration tool TUCaN Mobile of the TU Darmstadt is available via the Smartphone has been very difficult to use so far That is now changing for everyone Android users This app reads the page and makes it suitable for small screens Unfortunately it is currently not possible to register for events registering and registering for exams is only experimental however it is very practical to quickly get some information or materials from TUCaN to download\n",
      "View live weather radar imagery from the Canadian government The weather data is available under a noncommercial license With GPS integration in addition to all the features available at Environment Canada s website WiseRadar removes all the hassle from checking up on the latest storm front This app was designed for minimal headaches and just tothepoint radar imagery Key features include All radar locations Canada wide Pinch zoom on images to see just how close the storm is to your home Show your exact location on the image using your device s GPS sensor\n",
      "Camera Color Picker lets you capture in real time the colors around you using the camera of your device\n"
     ]
    }
   ],
   "source": [
    "# Remove extra Whitespace\n",
    "for (name, data) in desc.iteritems():\n",
    "    # Remove extra white spaces at the start or end\n",
    "    desc[name] = desc[name].strip()\n",
    "    # Remove extra white space that has been doubled up\n",
    "    desc[name] = \" \".join(desc[name].split())\n",
    "    \n",
    "# Display Output\n",
    "for (name, data) in desc.iteritems():\n",
    "    print(data)"
   ]
  },
  {
   "cell_type": "markdown",
   "metadata": {},
   "source": [
    "# V. Turn all Words Lowercase"
   ]
  },
  {
   "cell_type": "code",
   "execution_count": 11,
   "metadata": {
    "scrolled": true
   },
   "outputs": [
    {
     "name": "stdout",
     "output_type": "stream",
     "text": [
      "this one is basic turn it on with the button and quit the app to turn it off\n",
      "camtimer is a simple camera timer application for android devices it allows you to choose from a five ten or fifteen second countdown and takes one or four pictures after the time has elapsed after you take a picture it will be shown full screen allowing you to share or delete it\n",
      "the student administration tool tucan mobile of the tu darmstadt is available via the smartphone has been very difficult to use so far that is now changing for everyone android users this app reads the page and makes it suitable for small screens unfortunately it is currently not possible to register for events registering and registering for exams is only experimental however it is very practical to quickly get some information or materials from tucan to download\n",
      "view live weather radar imagery from the canadian government the weather data is available under a noncommercial license with gps integration in addition to all the features available at environment canada s website wiseradar removes all the hassle from checking up on the latest storm front this app was designed for minimal headaches and just tothepoint radar imagery key features include all radar locations canada wide pinch zoom on images to see just how close the storm is to your home show your exact location on the image using your device s gps sensor\n",
      "camera color picker lets you capture in real time the colors around you using the camera of your device\n"
     ]
    }
   ],
   "source": [
    "# Turn all words to lowercase\n",
    "for (name, data) in desc.iteritems():\n",
    "    desc[name] = desc[name].lower()\n",
    "    \n",
    "# Display Output\n",
    "for (name, data) in desc.iteritems():\n",
    "    print(data)"
   ]
  },
  {
   "cell_type": "markdown",
   "metadata": {},
   "source": [
    "# VI. Remove Stop Words"
   ]
  },
  {
   "cell_type": "code",
   "execution_count": 12,
   "metadata": {},
   "outputs": [
    {
     "name": "stdout",
     "output_type": "stream",
     "text": [
      "one basic turn button quit app turn\n",
      "camtimer simple camera timer application android devices allows choose five ten fifteen second countdown takes one four pictures time elapsed take picture shown full screen allowing share delete\n",
      "student administration tool tucan mobile tu darmstadt available via smartphone difficult use far changing everyone android users app reads page makes suitable small screens unfortunately currently possible register events registering registering exams experimental however practical quickly get information materials tucan download\n",
      "view live weather radar imagery canadian government weather data available noncommercial license gps integration addition features available environment canada website wiseradar removes hassle checking latest storm front app designed minimal headaches tothepoint radar imagery key features include radar locations canada wide pinch zoom images see close storm home show exact location image using device gps sensor\n",
      "camera color picker lets capture real time colors around using camera device\n"
     ]
    }
   ],
   "source": [
    "# Remove Stop Words\n",
    "STOPWORDS = set(stopwords.words('english'))\n",
    "for (name, data) in desc.iteritems():\n",
    "    desc[name] = ' '.join([word for word in desc[name].split() if word not in STOPWORDS])\n",
    "    \n",
    "# Display Output\n",
    "for (name, data) in desc.iteritems():\n",
    "    print(data)"
   ]
  },
  {
   "cell_type": "markdown",
   "metadata": {},
   "source": [
    "# VII. Apply Stemming"
   ]
  },
  {
   "cell_type": "code",
   "execution_count": 13,
   "metadata": {},
   "outputs": [
    {
     "name": "stdout",
     "output_type": "stream",
     "text": [
      "one basic turn button quit app turn\n",
      "camtimer simple camera timer application android devices allows choose five ten fifteen second countdown takes one four pictures time elapsed take picture shown full screen allowing share delet\n",
      "student administration tool tucan mobile tu darmstadt available via smartphone difficult use far changing everyone android users app reads page makes suitable small screens unfortunately currently possible register events registering registering exams experimental however practical quickly get information materials tucan download\n",
      "view live weather radar imagery canadian government weather data available noncommercial license gps integration addition features available environment canada website wiseradar removes hassle checking latest storm front app designed minimal headaches tothepoint radar imagery key features include radar locations canada wide pinch zoom images see close storm home show exact location image using device gps sensor\n",
      "camera color picker lets capture real time colors around using camera devic\n"
     ]
    }
   ],
   "source": [
    "porter_stemmer = PorterStemmer()\n",
    "# Apply Stemming\n",
    "for (name, data) in desc.iteritems():\n",
    "    desc[name] = porter_stemmer.stem(desc[name])\n",
    "    \n",
    "# Display Output\n",
    "for (name, data) in desc.iteritems():\n",
    "    print(data)"
   ]
  },
  {
   "cell_type": "markdown",
   "metadata": {},
   "source": [
    "# VIII. Apply Lemmatization"
   ]
  },
  {
   "cell_type": "code",
   "execution_count": 14,
   "metadata": {},
   "outputs": [
    {
     "name": "stdout",
     "output_type": "stream",
     "text": [
      "one basic turn button quit app turn\n",
      "camtimer simple camera timer application android devices allows choose five ten fifteen second countdown takes one four pictures time elapsed take picture shown full screen allowing share delet\n",
      "student administration tool tucan mobile tu darmstadt available via smartphone difficult use far changing everyone android users app reads page makes suitable small screens unfortunately currently possible register events registering registering exams experimental however practical quickly get information materials tucan download\n",
      "view live weather radar imagery canadian government weather data available noncommercial license gps integration addition features available environment canada website wiseradar removes hassle checking latest storm front app designed minimal headaches tothepoint radar imagery key features include radar locations canada wide pinch zoom images see close storm home show exact location image using device gps sensor\n",
      "camera color picker lets capture real time colors around using camera devic\n"
     ]
    }
   ],
   "source": [
    "wordnet_lemmatizer = WordNetLemmatizer()\n",
    "# Apply Lemmatization\n",
    "for (name, data) in desc.iteritems():\n",
    "    desc[name] = wordnet_lemmatizer.lemmatize(desc[name])\n",
    "    \n",
    "# Display Output\n",
    "for (name, data) in desc.iteritems():\n",
    "    print(data)"
   ]
  },
  {
   "cell_type": "markdown",
   "metadata": {},
   "source": [
    "# IX. Create Output File"
   ]
  },
  {
   "cell_type": "code",
   "execution_count": 15,
   "metadata": {},
   "outputs": [],
   "source": [
    "# Create & Output csv file to PreProcessedDescription.csv\n",
    "df.to_csv('PreProcessedDescription.csv')"
   ]
  },
  {
   "cell_type": "markdown",
   "metadata": {},
   "source": [
    "# What is the difference between Stemming and Lemmatization?\n",
    "Stemming refers to the root part of the word. Therefore, when we stem a word, we are removing the suffex of the word.\n",
    "\n",
    "Where as lemmatization reduces the root of the word in a way where all forms of the word are reduced to its core."
   ]
  },
  {
   "cell_type": "markdown",
   "metadata": {},
   "source": [
    "# TASK 3"
   ]
  },
  {
   "cell_type": "markdown",
   "metadata": {},
   "source": [
    "# I. Input and Read CSV"
   ]
  },
  {
   "cell_type": "code",
   "execution_count": 18,
   "metadata": {},
   "outputs": [],
   "source": [
    "df1 = pd.read_csv('PreProcessedDescription.csv')"
   ]
  },
  {
   "cell_type": "code",
   "execution_count": 19,
   "metadata": {},
   "outputs": [],
   "source": [
    "desc1 = df1[\"App Description\"]"
   ]
  },
  {
   "cell_type": "code",
   "execution_count": 20,
   "metadata": {},
   "outputs": [
    {
     "name": "stdout",
     "output_type": "stream",
     "text": [
      "one basic turn button quit app turn\n",
      "camtimer simple camera timer application android devices allows choose five ten fifteen second countdown takes one four pictures time elapsed take picture shown full screen allowing share delet\n",
      "student administration tool tucan mobile tu darmstadt available via smartphone difficult use far changing everyone android users app reads page makes suitable small screens unfortunately currently possible register events registering registering exams experimental however practical quickly get information materials tucan download\n",
      "view live weather radar imagery canadian government weather data available noncommercial license gps integration addition features available environment canada website wiseradar removes hassle checking latest storm front app designed minimal headaches tothepoint radar imagery key features include radar locations canada wide pinch zoom images see close storm home show exact location image using device gps sensor\n",
      "camera color picker lets capture real time colors around using camera devic\n"
     ]
    }
   ],
   "source": [
    "#Display raw data of description from each row\n",
    "for (name, data) in desc1.iteritems():\n",
    "#    print(desc.to_string())\n",
    "    print(data)"
   ]
  },
  {
   "cell_type": "markdown",
   "metadata": {},
   "source": [
    "# II. Extract Bi-Grams"
   ]
  },
  {
   "cell_type": "code",
   "execution_count": 21,
   "metadata": {},
   "outputs": [],
   "source": [
    "# Extract Bi-Grams from app descriptions\n",
    "bi_list = []\n",
    "for (name, data) in desc1.iteritems():\n",
    "#      desc1[name] = nltk.bigrams(desc1[name])\n",
    "#     desc[name] = ngrams(desc.split(), 2)\n",
    "#     print(nltk.bigrams(desc1[name]))\n",
    "    bi_list += list(nltk.bigrams(desc1[name].split()))\n",
    "#desc1 = bi_list"
   ]
  },
  {
   "cell_type": "markdown",
   "metadata": {},
   "source": [
    "# III. Show Output"
   ]
  },
  {
   "cell_type": "code",
   "execution_count": 22,
   "metadata": {},
   "outputs": [
    {
     "name": "stdout",
     "output_type": "stream",
     "text": [
      "[('one', 'basic'), ('basic', 'turn'), ('turn', 'button'), ('button', 'quit'), ('quit', 'app'), ('app', 'turn'), ('camtimer', 'simple'), ('simple', 'camera'), ('camera', 'timer'), ('timer', 'application'), ('application', 'android'), ('android', 'devices'), ('devices', 'allows'), ('allows', 'choose'), ('choose', 'five'), ('five', 'ten'), ('ten', 'fifteen'), ('fifteen', 'second'), ('second', 'countdown'), ('countdown', 'takes'), ('takes', 'one'), ('one', 'four'), ('four', 'pictures'), ('pictures', 'time'), ('time', 'elapsed'), ('elapsed', 'take'), ('take', 'picture'), ('picture', 'shown'), ('shown', 'full'), ('full', 'screen'), ('screen', 'allowing'), ('allowing', 'share'), ('share', 'delet'), ('student', 'administration'), ('administration', 'tool'), ('tool', 'tucan'), ('tucan', 'mobile'), ('mobile', 'tu'), ('tu', 'darmstadt'), ('darmstadt', 'available'), ('available', 'via'), ('via', 'smartphone'), ('smartphone', 'difficult'), ('difficult', 'use'), ('use', 'far'), ('far', 'changing'), ('changing', 'everyone'), ('everyone', 'android'), ('android', 'users'), ('users', 'app'), ('app', 'reads'), ('reads', 'page'), ('page', 'makes'), ('makes', 'suitable'), ('suitable', 'small'), ('small', 'screens'), ('screens', 'unfortunately'), ('unfortunately', 'currently'), ('currently', 'possible'), ('possible', 'register'), ('register', 'events'), ('events', 'registering'), ('registering', 'registering'), ('registering', 'exams'), ('exams', 'experimental'), ('experimental', 'however'), ('however', 'practical'), ('practical', 'quickly'), ('quickly', 'get'), ('get', 'information'), ('information', 'materials'), ('materials', 'tucan'), ('tucan', 'download'), ('view', 'live'), ('live', 'weather'), ('weather', 'radar'), ('radar', 'imagery'), ('imagery', 'canadian'), ('canadian', 'government'), ('government', 'weather'), ('weather', 'data'), ('data', 'available'), ('available', 'noncommercial'), ('noncommercial', 'license'), ('license', 'gps'), ('gps', 'integration'), ('integration', 'addition'), ('addition', 'features'), ('features', 'available'), ('available', 'environment'), ('environment', 'canada'), ('canada', 'website'), ('website', 'wiseradar'), ('wiseradar', 'removes'), ('removes', 'hassle'), ('hassle', 'checking'), ('checking', 'latest'), ('latest', 'storm'), ('storm', 'front'), ('front', 'app'), ('app', 'designed'), ('designed', 'minimal'), ('minimal', 'headaches'), ('headaches', 'tothepoint'), ('tothepoint', 'radar'), ('radar', 'imagery'), ('imagery', 'key'), ('key', 'features'), ('features', 'include'), ('include', 'radar'), ('radar', 'locations'), ('locations', 'canada'), ('canada', 'wide'), ('wide', 'pinch'), ('pinch', 'zoom'), ('zoom', 'images'), ('images', 'see'), ('see', 'close'), ('close', 'storm'), ('storm', 'home'), ('home', 'show'), ('show', 'exact'), ('exact', 'location'), ('location', 'image'), ('image', 'using'), ('using', 'device'), ('device', 'gps'), ('gps', 'sensor'), ('camera', 'color'), ('color', 'picker'), ('picker', 'lets'), ('lets', 'capture'), ('capture', 'real'), ('real', 'time'), ('time', 'colors'), ('colors', 'around'), ('around', 'using'), ('using', 'camera'), ('camera', 'devic')]\n"
     ]
    }
   ],
   "source": [
    "# Display Output\n",
    "# for (name, data) in desc1.iteritems():\n",
    "#     print(data)\n",
    "    \n",
    "# for key, value in bi_list.iteritems():\n",
    "#     print(key, value)\n",
    "#print(desc1)\n",
    "print(bi_list)"
   ]
  },
  {
   "cell_type": "markdown",
   "metadata": {},
   "source": [
    "# IV. Create Output CSV"
   ]
  },
  {
   "cell_type": "code",
   "execution_count": 23,
   "metadata": {},
   "outputs": [],
   "source": [
    "# Create Output File\n",
    "with open('BiGrams.csv', 'w', encoding='UTF8') as f:\n",
    "    writer = csv.writer(f)\n",
    "    writer.writerows(bi_list)"
   ]
  },
  {
   "cell_type": "markdown",
   "metadata": {},
   "source": [
    "# TASK 4"
   ]
  },
  {
   "cell_type": "markdown",
   "metadata": {},
   "source": [
    "# I. Input and Read CSV"
   ]
  },
  {
   "cell_type": "code",
   "execution_count": 25,
   "metadata": {},
   "outputs": [],
   "source": [
    "df2 = pd.read_csv('PreProcessedDescription.csv')"
   ]
  },
  {
   "cell_type": "code",
   "execution_count": 26,
   "metadata": {},
   "outputs": [],
   "source": [
    "desc2 = df2[\"App Description\"]"
   ]
  },
  {
   "cell_type": "code",
   "execution_count": 27,
   "metadata": {},
   "outputs": [
    {
     "name": "stdout",
     "output_type": "stream",
     "text": [
      "one basic turn button quit app turn\n",
      "camtimer simple camera timer application android devices allows choose five ten fifteen second countdown takes one four pictures time elapsed take picture shown full screen allowing share delet\n",
      "student administration tool tucan mobile tu darmstadt available via smartphone difficult use far changing everyone android users app reads page makes suitable small screens unfortunately currently possible register events registering registering exams experimental however practical quickly get information materials tucan download\n",
      "view live weather radar imagery canadian government weather data available noncommercial license gps integration addition features available environment canada website wiseradar removes hassle checking latest storm front app designed minimal headaches tothepoint radar imagery key features include radar locations canada wide pinch zoom images see close storm home show exact location image using device gps sensor\n",
      "camera color picker lets capture real time colors around using camera devic\n"
     ]
    }
   ],
   "source": [
    "#Display raw data of description from each row\n",
    "for (name, data) in desc2.iteritems():\n",
    "#    print(desc.to_string())\n",
    "    print(data)"
   ]
  },
  {
   "cell_type": "markdown",
   "metadata": {},
   "source": [
    "# II.  Extract Tri-Grams"
   ]
  },
  {
   "cell_type": "code",
   "execution_count": 28,
   "metadata": {},
   "outputs": [],
   "source": [
    "# Extract Tri-Grams from app descriptions\n",
    "tri_list = []\n",
    "for (name, data) in desc2.iteritems():\n",
    "    tri_list += list(nltk.trigrams(desc2[name].split()))"
   ]
  },
  {
   "cell_type": "markdown",
   "metadata": {},
   "source": [
    "# III. Show Output"
   ]
  },
  {
   "cell_type": "code",
   "execution_count": 29,
   "metadata": {},
   "outputs": [
    {
     "name": "stdout",
     "output_type": "stream",
     "text": [
      "[('one', 'basic', 'turn'), ('basic', 'turn', 'button'), ('turn', 'button', 'quit'), ('button', 'quit', 'app'), ('quit', 'app', 'turn'), ('camtimer', 'simple', 'camera'), ('simple', 'camera', 'timer'), ('camera', 'timer', 'application'), ('timer', 'application', 'android'), ('application', 'android', 'devices'), ('android', 'devices', 'allows'), ('devices', 'allows', 'choose'), ('allows', 'choose', 'five'), ('choose', 'five', 'ten'), ('five', 'ten', 'fifteen'), ('ten', 'fifteen', 'second'), ('fifteen', 'second', 'countdown'), ('second', 'countdown', 'takes'), ('countdown', 'takes', 'one'), ('takes', 'one', 'four'), ('one', 'four', 'pictures'), ('four', 'pictures', 'time'), ('pictures', 'time', 'elapsed'), ('time', 'elapsed', 'take'), ('elapsed', 'take', 'picture'), ('take', 'picture', 'shown'), ('picture', 'shown', 'full'), ('shown', 'full', 'screen'), ('full', 'screen', 'allowing'), ('screen', 'allowing', 'share'), ('allowing', 'share', 'delet'), ('student', 'administration', 'tool'), ('administration', 'tool', 'tucan'), ('tool', 'tucan', 'mobile'), ('tucan', 'mobile', 'tu'), ('mobile', 'tu', 'darmstadt'), ('tu', 'darmstadt', 'available'), ('darmstadt', 'available', 'via'), ('available', 'via', 'smartphone'), ('via', 'smartphone', 'difficult'), ('smartphone', 'difficult', 'use'), ('difficult', 'use', 'far'), ('use', 'far', 'changing'), ('far', 'changing', 'everyone'), ('changing', 'everyone', 'android'), ('everyone', 'android', 'users'), ('android', 'users', 'app'), ('users', 'app', 'reads'), ('app', 'reads', 'page'), ('reads', 'page', 'makes'), ('page', 'makes', 'suitable'), ('makes', 'suitable', 'small'), ('suitable', 'small', 'screens'), ('small', 'screens', 'unfortunately'), ('screens', 'unfortunately', 'currently'), ('unfortunately', 'currently', 'possible'), ('currently', 'possible', 'register'), ('possible', 'register', 'events'), ('register', 'events', 'registering'), ('events', 'registering', 'registering'), ('registering', 'registering', 'exams'), ('registering', 'exams', 'experimental'), ('exams', 'experimental', 'however'), ('experimental', 'however', 'practical'), ('however', 'practical', 'quickly'), ('practical', 'quickly', 'get'), ('quickly', 'get', 'information'), ('get', 'information', 'materials'), ('information', 'materials', 'tucan'), ('materials', 'tucan', 'download'), ('view', 'live', 'weather'), ('live', 'weather', 'radar'), ('weather', 'radar', 'imagery'), ('radar', 'imagery', 'canadian'), ('imagery', 'canadian', 'government'), ('canadian', 'government', 'weather'), ('government', 'weather', 'data'), ('weather', 'data', 'available'), ('data', 'available', 'noncommercial'), ('available', 'noncommercial', 'license'), ('noncommercial', 'license', 'gps'), ('license', 'gps', 'integration'), ('gps', 'integration', 'addition'), ('integration', 'addition', 'features'), ('addition', 'features', 'available'), ('features', 'available', 'environment'), ('available', 'environment', 'canada'), ('environment', 'canada', 'website'), ('canada', 'website', 'wiseradar'), ('website', 'wiseradar', 'removes'), ('wiseradar', 'removes', 'hassle'), ('removes', 'hassle', 'checking'), ('hassle', 'checking', 'latest'), ('checking', 'latest', 'storm'), ('latest', 'storm', 'front'), ('storm', 'front', 'app'), ('front', 'app', 'designed'), ('app', 'designed', 'minimal'), ('designed', 'minimal', 'headaches'), ('minimal', 'headaches', 'tothepoint'), ('headaches', 'tothepoint', 'radar'), ('tothepoint', 'radar', 'imagery'), ('radar', 'imagery', 'key'), ('imagery', 'key', 'features'), ('key', 'features', 'include'), ('features', 'include', 'radar'), ('include', 'radar', 'locations'), ('radar', 'locations', 'canada'), ('locations', 'canada', 'wide'), ('canada', 'wide', 'pinch'), ('wide', 'pinch', 'zoom'), ('pinch', 'zoom', 'images'), ('zoom', 'images', 'see'), ('images', 'see', 'close'), ('see', 'close', 'storm'), ('close', 'storm', 'home'), ('storm', 'home', 'show'), ('home', 'show', 'exact'), ('show', 'exact', 'location'), ('exact', 'location', 'image'), ('location', 'image', 'using'), ('image', 'using', 'device'), ('using', 'device', 'gps'), ('device', 'gps', 'sensor'), ('camera', 'color', 'picker'), ('color', 'picker', 'lets'), ('picker', 'lets', 'capture'), ('lets', 'capture', 'real'), ('capture', 'real', 'time'), ('real', 'time', 'colors'), ('time', 'colors', 'around'), ('colors', 'around', 'using'), ('around', 'using', 'camera'), ('using', 'camera', 'devic')]\n"
     ]
    }
   ],
   "source": [
    "print(tri_list)"
   ]
  },
  {
   "cell_type": "markdown",
   "metadata": {},
   "source": [
    "# IV. Create Output CSV"
   ]
  },
  {
   "cell_type": "code",
   "execution_count": 30,
   "metadata": {},
   "outputs": [],
   "source": [
    "# Create Output File\n",
    "with open('TriGrams.csv', 'w', encoding='UTF8') as f:\n",
    "    writer = csv.writer(f)\n",
    "    writer.writerows(tri_list)"
   ]
  },
  {
   "cell_type": "markdown",
   "metadata": {},
   "source": [
    "# TASK 5"
   ]
  },
  {
   "cell_type": "code",
   "execution_count": 32,
   "metadata": {},
   "outputs": [],
   "source": [
    "df3 = pd.read_csv('MyAppFeatures.csv')"
   ]
  },
  {
   "cell_type": "code",
   "execution_count": 35,
   "metadata": {},
   "outputs": [
    {
     "name": "stdout",
     "output_type": "stream",
     "text": [
      "0                            Turn it on with the button\n",
      "1                           Quit the app to turn it off\n",
      "2           Choose from a 5, 10, or 15 second countdown\n",
      "3     Takes one or four pictures after the time has ...\n",
      "4     Shown full screen, allowing you to share or de...\n",
      "5     Reads the page and makes it suitable for small...\n",
      "6           Registering for exams is only experimental \n",
      "7                       View live weather radar imagery\n",
      "8                       All radar locations Canada wide\n",
      "9     Pinch zoom on images to see just how close the...\n",
      "10                     Show exact location on the image\n",
      "11    Capture, in real time, the colors around you u...\n",
      "12    You can now combine the colors to create beaut...\n",
      "13    You can now easily share the colors and the pa...\n",
      "Name: Feature, dtype: object\n"
     ]
    }
   ],
   "source": [
    "# Extract features from MyAppFeatures\n",
    "feat = df3[\"Feature\"]\n",
    "print(feat)"
   ]
  },
  {
   "cell_type": "markdown",
   "metadata": {},
   "source": [
    "# I. Substring Matching for Bi-Grams"
   ]
  },
  {
   "cell_type": "code",
   "execution_count": 47,
   "metadata": {},
   "outputs": [
    {
     "name": "stdout",
     "output_type": "stream",
     "text": [
      "0\n",
      "1946\n"
     ]
    }
   ],
   "source": [
    "# Compare The Bi-Grams\n",
    "hits = 0\n",
    "loss = 0\n",
    "for (name, data1) in feat.iteritems():\n",
    "    for (data2) in bi_list:\n",
    "        if data1 in data2:\n",
    "            hits += 1\n",
    "        else:\n",
    "            loss += 1\n",
    "print(hits)\n",
    "print(loss)\n",
    "    "
   ]
  },
  {
   "cell_type": "markdown",
   "metadata": {},
   "source": [
    "# II. Manual Inspection: (9 hits)"
   ]
  },
  {
   "cell_type": "markdown",
   "metadata": {},
   "source": [
    "# I. Substring Matching for Tri-Grams"
   ]
  },
  {
   "cell_type": "code",
   "execution_count": 48,
   "metadata": {},
   "outputs": [
    {
     "name": "stdout",
     "output_type": "stream",
     "text": [
      "0\n",
      "1876\n"
     ]
    }
   ],
   "source": [
    "# Compare The Tri-Grams\n",
    "hits = 0\n",
    "loss = 0\n",
    "for (name, data1) in feat.iteritems():\n",
    "    for (data2) in tri_list:\n",
    "        if data1 in data2:\n",
    "            hits += 1\n",
    "        else:\n",
    "            loss += 1\n",
    "print(hits)\n",
    "print(loss)"
   ]
  },
  {
   "cell_type": "markdown",
   "metadata": {},
   "source": [
    "# II. Manual Inspection: (2 hits)"
   ]
  },
  {
   "cell_type": "markdown",
   "metadata": {},
   "source": [
    "# Discussion:\n",
    "## III: Extent of similarity and difference between the manually extracted features and the Bi-Grams and Tri-Grams\n",
    "\n",
    "We know that for n-grams, there is an ntn sequence of numbers that are grouped within a tuple. For bi-grams and tri-grams, it is ovbious that Bi-Grams would be tupled sequences of 2 words and trigrams would be 3 words. However, the difference would be looking at patterns within sentences. Certain words obtain a distinct meaning when being in groups of 2 (Ex. French Army) and others have meanings in groups of three (Ex. French Revolutionary Army). However, any sort of n-gram is supposed to represent a singular object/noun that posses significance through a multitude of words."
   ]
  },
  {
   "cell_type": "markdown",
   "metadata": {},
   "source": [
    "## IV: If extracting Bi-grams and Tri-grams are reliable enough for automated extraction of features from app descriptions? \n",
    "\n",
    "Yes, Bi-Grams and Tri-Grams are typically reliable enough for automated extraction. Typically nouns or compunded nouns are not composed of more than three words. If we were to extract any n-gram beyond the Tri-Gram zone, we would typically yield more innacurate data as other words that are not assiciated with the meaning have a higher chance of being clustered together."
   ]
  },
  {
   "cell_type": "code",
   "execution_count": null,
   "metadata": {},
   "outputs": [],
   "source": []
  }
 ],
 "metadata": {
  "kernelspec": {
   "display_name": "Python 3 (ipykernel)",
   "language": "python",
   "name": "python3"
  },
  "language_info": {
   "codemirror_mode": {
    "name": "ipython",
    "version": 3
   },
   "file_extension": ".py",
   "mimetype": "text/x-python",
   "name": "python",
   "nbconvert_exporter": "python",
   "pygments_lexer": "ipython3",
   "version": "3.8.5"
  }
 },
 "nbformat": 4,
 "nbformat_minor": 4
}
